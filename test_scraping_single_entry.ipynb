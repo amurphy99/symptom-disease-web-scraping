{
 "cells": [
  {
   "cell_type": "markdown",
   "id": "e624371b",
   "metadata": {},
   "source": [
    "# Imports"
   ]
  },
  {
   "cell_type": "code",
   "execution_count": 1,
   "id": "44f10e03",
   "metadata": {},
   "outputs": [],
   "source": [
    "import requests\n",
    "from bs4 import BeautifulSoup"
   ]
  },
  {
   "cell_type": "markdown",
   "id": "3a039a56",
   "metadata": {},
   "source": [
    "# Test with the first page"
   ]
  },
  {
   "cell_type": "code",
   "execution_count": 2,
   "id": "bb039c01",
   "metadata": {},
   "outputs": [],
   "source": [
    "URL  = \"https://medlineplus.gov/ency/article/001654.htm\"\n",
    "page = requests.get(URL)\n",
    "soup = BeautifulSoup(page.content, \"html.parser\")"
   ]
  },
  {
   "cell_type": "markdown",
   "id": "f93660c3",
   "metadata": {},
   "source": [
    "### I need to get what is inside the content tag only\n",
    "```\n",
    "    <!-- Content\n",
    "    ================================================== -->\n",
    "    <div id=\"mplus-content\">\n",
    "    ...\n",
    "    </div>\n",
    "```"
   ]
  },
  {
   "cell_type": "code",
   "execution_count": 3,
   "id": "2528c013",
   "metadata": {},
   "outputs": [
    {
     "data": {
      "text/plain": [
       "1"
      ]
     },
     "execution_count": 3,
     "metadata": {},
     "output_type": "execute_result"
    }
   ],
   "source": [
    "# Page title and summary\n",
    "page_content = soup.find_all(\"div\", id=\"mplus-content\")\n",
    "\n",
    "len(page_content)"
   ]
  },
  {
   "cell_type": "code",
   "execution_count": 4,
   "id": "9287f938",
   "metadata": {},
   "outputs": [],
   "source": [
    "#print(page_content[0].prettify())"
   ]
  },
  {
   "cell_type": "markdown",
   "id": "04f142d7",
   "metadata": {},
   "source": [
    "# Page Info (url, title, summary)"
   ]
  },
  {
   "cell_type": "markdown",
   "id": "5d7e6de5",
   "metadata": {},
   "source": [
    "<hr>\n",
    "\n",
    "### URL:\n",
    "```\n",
    "<span class=\"page-url print-only\">\n",
    "    URL of this page: //medlineplus.gov/ency/article/001654.htm\n",
    "</span>\n",
    "```\n",
    "\n",
    "<hr>\n",
    "\n",
    "### Title:\n",
    "```\n",
    "<div class=\"page-title\">\n",
    "    <a id=\"start\" name=\"start\"> </a>\n",
    "    <h1 class=\"with-also\" itemprop=\"name\">\n",
    "        Aarskog syndrome\n",
    "    </h1>\n",
    "</div>\n",
    "```\n",
    "\n",
    "<hr>\n",
    "\n",
    "### Summary:\n",
    "```\n",
    "<div id=\"ency_summary\">\n",
    "    <p>\n",
    "        Aarskog syndrome is a very rare disease that affects a person's height, muscles, skeleton, genitals, and appearance. It can be passed down through families (inherited).\n",
    "    </p>\n",
    "</div>\n",
    "```\n",
    "\n",
    "<hr>"
   ]
  },
  {
   "cell_type": "code",
   "execution_count": 5,
   "id": "eb55a655",
   "metadata": {},
   "outputs": [
    {
     "name": "stdout",
     "output_type": "stream",
     "text": [
      "medlineplus.gov/ency/article/001654.htm\r\n",
      "Aarskog syndrome\n",
      "Aarskog syndrome is a very rare disease that affects a person's height, muscles, skeleton, genitals, and appearance. It can be passed down through families (inherited).\n"
     ]
    }
   ],
   "source": [
    "# Page URL\n",
    "page_URL = page_content[0].find(\"span\", class_=\"page-url\").contents[0]\n",
    "page_URL = page_URL.split(\"//\")[1]\n",
    "page_URL = page_URL.strip(\" \").strip(\"\\n\")\n",
    "\n",
    "# Page Title\n",
    "page_title = page_content[0].find(\"div\", class_=\"page-title\")\n",
    "page_title = page_title.find(\"h1\").contents[0]\n",
    "\n",
    "# Page Summary\n",
    "page_summary = page_content[0].find(\"div\", id=\"ency_summary\")\n",
    "page_summary = page_summary.find(\"p\").contents[0]\n",
    "\n",
    "\n",
    "print(page_URL)\n",
    "print(page_title)\n",
    "print(page_summary)"
   ]
  },
  {
   "cell_type": "markdown",
   "id": "9b43f25e",
   "metadata": {},
   "source": [
    "# Page Section"
   ]
  },
  {
   "cell_type": "code",
   "execution_count": 6,
   "id": "bf2f2fe9",
   "metadata": {},
   "outputs": [
    {
     "data": {
      "text/plain": [
       "14"
      ]
     },
     "execution_count": 6,
     "metadata": {},
     "output_type": "execute_result"
    }
   ],
   "source": [
    "# Get each section\n",
    "page_sections = page_content[0].find_all(\"section\")\n",
    "\n",
    "len(page_sections)"
   ]
  },
  {
   "cell_type": "markdown",
   "id": "408715b3",
   "metadata": {},
   "source": [
    "<hr>\n",
    "\n",
    "### Section Title:\n",
    "```\n",
    "<div class=\"section-title\">\n",
    "    <h2> Symptoms </h2>\n",
    "</div>\n",
    "```\n",
    "\n",
    "<hr>\n",
    "\n",
    "### Section Body:\n",
    "```\n",
    "<div class=\"section-body\" id=\"section-2\">\n",
    "    ...\n",
    "</div>\n",
    "```\n",
    "\n",
    "<hr>"
   ]
  },
  {
   "cell_type": "code",
   "execution_count": 7,
   "id": "5007645e",
   "metadata": {},
   "outputs": [],
   "source": [
    "'''\n",
    "Section -> dictionary\n",
    "\n",
    "\"section_title\" : string\n",
    "\"section_body\"  : list\n",
    "\n",
    "section_body_item = list of two items\n",
    "0 -> html tag (p, ul, ol)\n",
    "1 -> contents (string for p tag, list of strings for ul and ol tags)\n",
    "\n",
    "''';"
   ]
  },
  {
   "cell_type": "code",
   "execution_count": 13,
   "id": "f60a4788",
   "metadata": {},
   "outputs": [
    {
     "name": "stdout",
     "output_type": "stream",
     "text": [
      "<section>\n",
      " <div class=\"section\">\n",
      "  <div class=\"section-header\">\n",
      "   <div class=\"section-title\">\n",
      "    <h2>\n",
      "     Possible Complications\n",
      "    </h2>\n",
      "   </div>\n",
      "   <div class=\"section-button\">\n",
      "    <button aria-controls=\"section-7\" role=\"button\" title=\"Expand/Collapse section\" type=\"submit\">\n",
      "     <span class=\"icon icon-section-action\">\n",
      "     </span>\n",
      "    </button>\n",
      "   </div>\n",
      "   <div aria-live=\"polite\" class=\"sm-live-area hide-offscreen\">\n",
      "   </div>\n",
      "  </div>\n",
      "  <div class=\"section-body\" id=\"section-7\">\n",
      "   <p>\n",
      "    These complications can occur:\n",
      "   </p>\n",
      "   <ul>\n",
      "    <li>\n",
      "     Changes in the brain\n",
      "    </li>\n",
      "    <li>\n",
      "     Difficulty growing in the first year of life\n",
      "    </li>\n",
      "    <li>\n",
      "     Poorly aligned teeth\n",
      "    </li>\n",
      "    <li>\n",
      "     Seizures\n",
      "    </li>\n",
      "    <li>\n",
      "     Undescended testicles\n",
      "    </li>\n",
      "   </ul>\n",
      "  </div>\n",
      " </div>\n",
      "</section>\n",
      "\n"
     ]
    }
   ],
   "source": [
    "print(page_sections[6].prettify())"
   ]
  },
  {
   "cell_type": "code",
   "execution_count": 9,
   "id": "1d621608",
   "metadata": {},
   "outputs": [],
   "source": [
    "sample_section = page_sections[1]"
   ]
  },
  {
   "cell_type": "code",
   "execution_count": 10,
   "id": "86329a38",
   "metadata": {},
   "outputs": [
    {
     "name": "stdout",
     "output_type": "stream",
     "text": [
      "Symptoms\n"
     ]
    }
   ],
   "source": [
    "# Section Title\n",
    "section_title = sample_section.find(\"div\", class_=\"section-title\")\n",
    "section_title = section_title.find(\"h2\").contents[0]\n",
    "section_title = section_title.strip(\" \")\n",
    "\n",
    "print(section_title)"
   ]
  },
  {
   "cell_type": "code",
   "execution_count": 11,
   "id": "88e4426c",
   "metadata": {},
   "outputs": [
    {
     "name": "stdout",
     "output_type": "stream",
     "text": [
      "Symptoms of this condition include:\n",
      "['Belly button that sticks out', 'Bulge in the groin or scrotum', 'Delayed sexual maturity', 'Delayed teeth', 'Downward ', 'Hairline with a \"widow\\'s peak\"', 'Mildly sunken chest (pectus excavatum)', 'Mild to moderate cognitive problems', 'Mild to moderate short height which may not be obvious until the child is 1 to 3 years old', 'Poorly developed middle section of the face', 'Rounded face', 'Scrotum surrounds the penis (shawl scrotum)', 'Short fingers and toes with mild webbing', 'Single crease in the palm of the hand', 'Small, broad hands and feet with short fingers and curved-in fifth finger', 'Small nose with nostrils tipped forward', 'Testicles that have not come down (undescended)', 'Top portion of the ear folded over slightly', 'Wide groove above the upper lip, crease below the lower lip', 'Wide-set eyes with droopy eyelids ']\n"
     ]
    }
   ],
   "source": [
    "# Section Body\n",
    "section_body = sample_section.find(\"div\", class_=\"section-body\")\n",
    "\n",
    "for element in section_body:\n",
    "    element_tag = element.name\n",
    "    \n",
    "    if element_tag == 'p':\n",
    "        element_contents = element.contents[0]\n",
    "        \n",
    "    elif element_tag == 'ul' or element_tag == 'ol':\n",
    "        element_contents_raw = element.contents\n",
    "        element_contents = []\n",
    "        for item in element_contents_raw:\n",
    "            element_contents.append(item.contents[0])\n",
    "    \n",
    "    # this shouldn't happen\n",
    "    else:\n",
    "        element_contents = element.contents\n",
    "    \n",
    "    # create the final section body item\n",
    "    section_body_item = (element_tag, element_contents)\n",
    "    print(element_contents)\n"
   ]
  },
  {
   "cell_type": "code",
   "execution_count": null,
   "id": "da87ceaf",
   "metadata": {},
   "outputs": [],
   "source": []
  },
  {
   "cell_type": "code",
   "execution_count": null,
   "id": "f550f6db",
   "metadata": {},
   "outputs": [],
   "source": [
    "\n",
    "\n",
    "\n",
    "\n",
    "\n",
    "\n",
    "\n",
    "\n",
    "\n",
    "\n",
    "\n",
    "\n",
    "\n"
   ]
  },
  {
   "cell_type": "code",
   "execution_count": null,
   "id": "cb04c045",
   "metadata": {},
   "outputs": [],
   "source": []
  }
 ],
 "metadata": {
  "kernelspec": {
   "display_name": "Python 3 (ipykernel)",
   "language": "python",
   "name": "python3"
  },
  "language_info": {
   "codemirror_mode": {
    "name": "ipython",
    "version": 3
   },
   "file_extension": ".py",
   "mimetype": "text/x-python",
   "name": "python",
   "nbconvert_exporter": "python",
   "pygments_lexer": "ipython3",
   "version": "3.8.8"
  }
 },
 "nbformat": 4,
 "nbformat_minor": 5
}
